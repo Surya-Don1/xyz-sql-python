{
 "cells": [
  {
   "cell_type": "code",
   "execution_count": 1,
   "metadata": {},
   "outputs": [],
   "source": [
    "import pandas as pd"
   ]
  },
  {
   "cell_type": "code",
   "execution_count": 3,
   "metadata": {},
   "outputs": [],
   "source": [
    "import sqlite3 as sq"
   ]
  },
  {
   "cell_type": "code",
   "execution_count": 10,
   "metadata": {},
   "outputs": [],
   "source": [
    "connection = sq.connect(\"/Users/surya/Documents/temp/xyz_db.db\")\n",
    "connection.cursor()\n",
    "query = \"select c.customer_id as customer,c.age, i.item_name as item,sum(quantity) as quantity from sales_items as si \\\n",
    "    join items as i on i.item_id = si.item_id \\\n",
    "    join orders as o on o.order_id = si.order_id \\\n",
    "    join sales as s on s.sales_id = o.sales_id \\\n",
    "    join customer as c on c.customer_id = s.customer_id \\\n",
    "    where c.age between 18 and 35 \\\n",
    "    group by 1,2,3;\"\n",
    "df = pd.read_sql_query(query,connection)\n",
    "df.to_csv(\"items_by_customer.csv\",sep=\";\",index=False,header=True)"
   ]
  }
 ],
 "metadata": {
  "kernelspec": {
   "display_name": "Python 3",
   "language": "python",
   "name": "python3"
  },
  "language_info": {
   "codemirror_mode": {
    "name": "ipython",
    "version": 3
   },
   "file_extension": ".py",
   "mimetype": "text/x-python",
   "name": "python",
   "nbconvert_exporter": "python",
   "pygments_lexer": "ipython3",
   "version": "3.10.13"
  }
 },
 "nbformat": 4,
 "nbformat_minor": 2
}
